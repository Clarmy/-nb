{
 "cells": [
  {
   "cell_type": "markdown",
   "metadata": {},
   "source": [
    "# 用Python读取nc文件的入门级操作"
   ]
  },
  {
   "cell_type": "code",
   "execution_count": 1,
   "metadata": {},
   "outputs": [],
   "source": [
    "import numpy as np\n",
    "import netCDF4 as nc"
   ]
  },
  {
   "cell_type": "markdown",
   "metadata": {},
   "source": [
    "将文件路径存入变量**file_path**中"
   ]
  },
  {
   "cell_type": "code",
   "execution_count": 2,
   "metadata": {},
   "outputs": [],
   "source": [
    "file_path = './air.mon.mean.nc'"
   ]
  },
  {
   "cell_type": "markdown",
   "metadata": {},
   "source": [
    "使用netCDF4的Dataset方法读取文件，并把netCDF4文件对象赋值给变量**file_obj**"
   ]
  },
  {
   "cell_type": "code",
   "execution_count": 3,
   "metadata": {},
   "outputs": [],
   "source": [
    "file_obj = nc.Dataset(file_path)"
   ]
  },
  {
   "cell_type": "markdown",
   "metadata": {},
   "source": [
    "此时的**file_obj**只是一个对象，可以直接执行以查看它的概述"
   ]
  },
  {
   "cell_type": "markdown",
   "metadata": {},
   "source": [
    "## 属性的查看和数据的读取"
   ]
  },
  {
   "cell_type": "code",
   "execution_count": 4,
   "metadata": {},
   "outputs": [
    {
     "data": {
      "text/plain": [
       "<class 'netCDF4._netCDF4.Dataset'>\n",
       "root group (NETCDF4_CLASSIC data model, file format HDF5):\n",
       "    description: Data from NCEP initialized reanalysis (4x/day).  These are the 0.9950 sigma level values\n",
       "    platform: Model\n",
       "    Conventions: COARDS\n",
       "    NCO: 20121012\n",
       "    history: Thu May  4 20:11:16 2000: ncrcat -d time,0,623 /Datasets/ncep.reanalysis.derived/surface/air.mon.mean.nc air.mon.mean.nc\n",
       "Thu May  4 18:11:50 2000: ncrcat -d time,0,622 /Datasets/ncep.reanalysis.derived/surface/air.mon.mean.nc ./surface/air.mon.mean.nc\n",
       "Mon Jul  5 23:47:18 1999: ncrcat ./air.mon.mean.nc /Datasets/ncep.reanalysis.derived/surface/air.mon.mean.nc /dm/dmwork/nmc.rean.ingest/combinedMMs/surface/air.mon.mean.nc\n",
       "/home/hoop/crdc/cpreanjuke2farm/cpreanjuke2farm Mon Oct 23 21:04:20 1995 from air.sfc.gauss.85.nc\n",
       "created 95/03/13 by Hoop (netCDF2.3)\n",
       "Converted to chunked, deflated non-packed NetCDF4 2014/09\n",
       "    title: monthly mean air.sig995 from the NCEP Reanalysis\n",
       "    References: http://www.esrl.noaa.gov/psd/data/gridded/data.ncep.reanalysis.derived.html\n",
       "    dataset_title: NCEP-NCAR Reanalysis 1\n",
       "    dimensions(sizes): lat(73), lon(144), time(848)\n",
       "    variables(dimensions): float32 \u001b[4mlat\u001b[0m(lat), float32 \u001b[4mlon\u001b[0m(lon), float64 \u001b[4mtime\u001b[0m(time), float32 \u001b[4mair\u001b[0m(time,lat,lon)\n",
       "    groups: "
      ]
     },
     "execution_count": 4,
     "metadata": {},
     "output_type": "execute_result"
    }
   ],
   "source": [
    "file_obj"
   ]
  },
  {
   "cell_type": "markdown",
   "metadata": {},
   "source": [
    "可以看到，这是一个叫做**netCDF4._netCDF4.Dataset**的类对象   \n"
   ]
  },
  {
   "cell_type": "markdown",
   "metadata": {},
   "source": [
    "上面的显示内容太混乱，如果我们想要快速获取该对象中存储的变量名，可以执行下面这条语句"
   ]
  },
  {
   "cell_type": "code",
   "execution_count": 5,
   "metadata": {},
   "outputs": [
    {
     "data": {
      "text/plain": [
       "odict_keys(['lat', 'lon', 'time', 'air'])"
      ]
     },
     "execution_count": 5,
     "metadata": {},
     "output_type": "execute_result"
    }
   ],
   "source": [
    "file_obj.variables.keys()  # 在Python2.7版本中输出结果为列表"
   ]
  },
  {
   "cell_type": "markdown",
   "metadata": {},
   "source": [
    "这样就显示了file_obj对象里存储的4个变量的变量名，即纬度(lat)，经度(lon)，时间(time)   \n",
    "而对于最后一个air是什么意思？我们可能并不好确定   \n",
    "那么我们就可以把它读取出来"
   ]
  },
  {
   "cell_type": "code",
   "execution_count": 6,
   "metadata": {},
   "outputs": [],
   "source": [
    "air = file_obj.variables['air']"
   ]
  },
  {
   "cell_type": "markdown",
   "metadata": {},
   "source": [
    "通过直接运行变量名，我们可以查看它的属性信息"
   ]
  },
  {
   "cell_type": "code",
   "execution_count": 7,
   "metadata": {},
   "outputs": [
    {
     "data": {
      "text/plain": [
       "<class 'netCDF4._netCDF4.Variable'>\n",
       "float32 air(time, lat, lon)\n",
       "    long_name: Monthly Mean Air Temperature at sigma level 0.995\n",
       "    valid_range: [-2000.  2000.]\n",
       "    units: degC\n",
       "    add_offset: 0.0\n",
       "    scale_factor: 1.0\n",
       "    missing_value: -9.96921e+36\n",
       "    precision: 1\n",
       "    least_significant_digit: 0\n",
       "    var_desc: Air Temperature\n",
       "    level_desc: Surface\n",
       "    statistic: Mean\n",
       "    parent_stat: Individual Obs\n",
       "    dataset: NCEP Reanalysis Derived Products\n",
       "    actual_range: [-73.78000641  42.14595032]\n",
       "unlimited dimensions: time\n",
       "current shape = (848, 73, 144)\n",
       "filling on, default _FillValue of 9.969209968386869e+36 used"
      ]
     },
     "execution_count": 7,
     "metadata": {},
     "output_type": "execute_result"
    }
   ],
   "source": [
    "air"
   ]
  },
  {
   "cell_type": "markdown",
   "metadata": {},
   "source": [
    "通常情况下nc文件中每个变量都会封装其属性，一般会包括全名（long_name)，单位（units）等等   \n",
    "可以看到，air变量的全名(long_name)是Monthly Mean Air Temperature at sigma level 0.995，也就是气温  "
   ]
  },
  {
   "cell_type": "markdown",
   "metadata": {},
   "source": [
    "除了全名、单位等常规信息，以下几条信息你需要特别注意： "
   ]
  },
  {
   "cell_type": "markdown",
   "metadata": {},
   "source": [
    "1、变量的维度信息：   \n",
    "属性信息的第二行显示了该变量的维度组成，即air(time, lat, lon)。这表示该变量是三维数组，其维度顺序是时间、纬度、经度。  "
   ]
  },
  {
   "cell_type": "markdown",
   "metadata": {},
   "source": [
    "2、缺省值信息：   \n",
    "通常情况下，nc文件中所存储的三维空间场数据会有一些空间点缺少数据，但是这些地方不能空着，就会被缺省值取代，这个缺省值不会是0，一般都是一个非常大的数字或者非常小的数字，这个数字在正常数据中是不可能出现的，例如本例中的missing_value: -9.96921e+36，在对数据的处理过程中要考虑和重视缺省值，否则你最后可能会处理处虚假的结果，这个在以后的文章中再详细说明"
   ]
  },
  {
   "cell_type": "markdown",
   "metadata": {},
   "source": [
    "3、解包参数：   \n",
    "nc文件有个特点，就是有时候数据占位比较多，会比较费空间。因此人们在对nc文件进行封装处理的时候，通常会有一个**数据打包**的过程，这个过程会使用一种算法改变数据的值，然后使用更节省空间数据类型来进行存储。在实际使用的时候再通过**解包**算法将其还原为真实值。   \n",
    " \n",
    "因此，如果你遇到一个nc文件，读出来的数据很奇怪（很整齐的整数、不合理的数据范围），那么你就要考虑一下是不是需要进行解包。\n",
    "\n",
    "解包算法是这样的：真实值 = 打包值 * **scale_factor** + **add_offset**  "
   ]
  },
  {
   "cell_type": "markdown",
   "metadata": {},
   "source": [
    "现在我们要开始读取air变量的值了，读取过程非常简单"
   ]
  },
  {
   "cell_type": "code",
   "execution_count": 8,
   "metadata": {},
   "outputs": [],
   "source": [
    "air_arr = air[:]"
   ]
  },
  {
   "cell_type": "markdown",
   "metadata": {},
   "source": [
    "可以查看一下air_arr的形状"
   ]
  },
  {
   "cell_type": "code",
   "execution_count": 9,
   "metadata": {},
   "outputs": [
    {
     "data": {
      "text/plain": [
       "(848, 73, 144)"
      ]
     },
     "execution_count": 9,
     "metadata": {},
     "output_type": "execute_result"
    }
   ],
   "source": [
    "air_arr.shape"
   ]
  },
  {
   "cell_type": "markdown",
   "metadata": {},
   "source": [
    "这是一个 848 x 73 x 144 的数字阵列，由于矩阵太过庞大，下面只显示其一个时次的数据内容"
   ]
  },
  {
   "cell_type": "code",
   "execution_count": 10,
   "metadata": {},
   "outputs": [
    {
     "data": {
      "text/plain": [
       "array([[-34.92677307, -34.92677307, -34.92677307, ..., -34.92677307,\n",
       "        -34.92677307, -34.92677307],\n",
       "       [-35.13935089, -35.129673  , -35.12741852, ..., -35.18870544,\n",
       "        -35.17000198, -35.14934921],\n",
       "       [-34.35257339, -34.04225922, -33.76870728, ..., -35.33386612,\n",
       "        -35.00290298, -34.67128754],\n",
       "       ..., \n",
       "       [-16.52515602, -16.40450859, -16.284832  , ..., -16.79515457,\n",
       "        -16.73773575, -16.64354324],\n",
       "       [-16.19031334, -16.20224762, -16.21677017, ..., -16.13257408,\n",
       "        -16.16192818, -16.17837715],\n",
       "       [-17.69773293, -17.69773293, -17.69773293, ..., -17.69773293,\n",
       "        -17.69773293, -17.69773293]], dtype=float32)"
      ]
     },
     "execution_count": 10,
     "metadata": {},
     "output_type": "execute_result"
    }
   ],
   "source": [
    "air_arr[0]"
   ]
  },
  {
   "cell_type": "markdown",
   "metadata": {},
   "source": [
    "经度和维度的读取"
   ]
  },
  {
   "cell_type": "code",
   "execution_count": 11,
   "metadata": {},
   "outputs": [],
   "source": [
    "lon = file_obj.variables['lon'][:]\n",
    "lat = file_obj.variables['lat'][:]"
   ]
  },
  {
   "cell_type": "code",
   "execution_count": 12,
   "metadata": {},
   "outputs": [
    {
     "data": {
      "text/plain": [
       "array([   0. ,    2.5,    5. ,    7.5,   10. ,   12.5,   15. ,   17.5,\n",
       "         20. ,   22.5,   25. ,   27.5,   30. ,   32.5,   35. ,   37.5,\n",
       "         40. ,   42.5,   45. ,   47.5,   50. ,   52.5,   55. ,   57.5,\n",
       "         60. ,   62.5,   65. ,   67.5,   70. ,   72.5,   75. ,   77.5,\n",
       "         80. ,   82.5,   85. ,   87.5,   90. ,   92.5,   95. ,   97.5,\n",
       "        100. ,  102.5,  105. ,  107.5,  110. ,  112.5,  115. ,  117.5,\n",
       "        120. ,  122.5,  125. ,  127.5,  130. ,  132.5,  135. ,  137.5,\n",
       "        140. ,  142.5,  145. ,  147.5,  150. ,  152.5,  155. ,  157.5,\n",
       "        160. ,  162.5,  165. ,  167.5,  170. ,  172.5,  175. ,  177.5,\n",
       "        180. ,  182.5,  185. ,  187.5,  190. ,  192.5,  195. ,  197.5,\n",
       "        200. ,  202.5,  205. ,  207.5,  210. ,  212.5,  215. ,  217.5,\n",
       "        220. ,  222.5,  225. ,  227.5,  230. ,  232.5,  235. ,  237.5,\n",
       "        240. ,  242.5,  245. ,  247.5,  250. ,  252.5,  255. ,  257.5,\n",
       "        260. ,  262.5,  265. ,  267.5,  270. ,  272.5,  275. ,  277.5,\n",
       "        280. ,  282.5,  285. ,  287.5,  290. ,  292.5,  295. ,  297.5,\n",
       "        300. ,  302.5,  305. ,  307.5,  310. ,  312.5,  315. ,  317.5,\n",
       "        320. ,  322.5,  325. ,  327.5,  330. ,  332.5,  335. ,  337.5,\n",
       "        340. ,  342.5,  345. ,  347.5,  350. ,  352.5,  355. ,  357.5], dtype=float32)"
      ]
     },
     "execution_count": 12,
     "metadata": {},
     "output_type": "execute_result"
    }
   ],
   "source": [
    "lon"
   ]
  },
  {
   "cell_type": "code",
   "execution_count": 13,
   "metadata": {},
   "outputs": [
    {
     "data": {
      "text/plain": [
       "array([ 90. ,  87.5,  85. ,  82.5,  80. ,  77.5,  75. ,  72.5,  70. ,\n",
       "        67.5,  65. ,  62.5,  60. ,  57.5,  55. ,  52.5,  50. ,  47.5,\n",
       "        45. ,  42.5,  40. ,  37.5,  35. ,  32.5,  30. ,  27.5,  25. ,\n",
       "        22.5,  20. ,  17.5,  15. ,  12.5,  10. ,   7.5,   5. ,   2.5,\n",
       "         0. ,  -2.5,  -5. ,  -7.5, -10. , -12.5, -15. , -17.5, -20. ,\n",
       "       -22.5, -25. , -27.5, -30. , -32.5, -35. , -37.5, -40. , -42.5,\n",
       "       -45. , -47.5, -50. , -52.5, -55. , -57.5, -60. , -62.5, -65. ,\n",
       "       -67.5, -70. , -72.5, -75. , -77.5, -80. , -82.5, -85. , -87.5, -90. ], dtype=float32)"
      ]
     },
     "execution_count": 13,
     "metadata": {},
     "output_type": "execute_result"
    }
   ],
   "source": [
    "lat"
   ]
  },
  {
   "cell_type": "markdown",
   "metadata": {},
   "source": [
    "## 时间的格式转换"
   ]
  },
  {
   "cell_type": "markdown",
   "metadata": {},
   "source": [
    "下面我们来看一下nc文件中时间维的数据存储方式是什么样的"
   ]
  },
  {
   "cell_type": "code",
   "execution_count": 14,
   "metadata": {},
   "outputs": [
    {
     "data": {
      "text/plain": [
       "<class 'netCDF4._netCDF4.Variable'>\n",
       "float64 time(time)\n",
       "    long_name: Time\n",
       "    delta_t: 0000-01-00 00:00:00\n",
       "    avg_period: 0000-01-00 00:00:00\n",
       "    prev_avg_period: 0000-00-01 00:00:00\n",
       "    standard_name: time\n",
       "    axis: T\n",
       "    units: hours since 1800-01-01 00:00:0.0\n",
       "    actual_range: [ 1297320.  1916040.]\n",
       "unlimited dimensions: time\n",
       "current shape = (848,)\n",
       "filling on, default _FillValue of 9.969209968386869e+36 used"
      ]
     },
     "execution_count": 14,
     "metadata": {},
     "output_type": "execute_result"
    }
   ],
   "source": [
    "time = file_obj.variables['time']\n",
    "time"
   ]
  },
  {
   "cell_type": "markdown",
   "metadata": {},
   "source": [
    "我们可以看到时间的属性有很多参数，其中最重要得是units，之所以说它最重要，是因为你看看下面"
   ]
  },
  {
   "cell_type": "code",
   "execution_count": 15,
   "metadata": {
    "scrolled": false
   },
   "outputs": [
    {
     "data": {
      "text/plain": [
       "array([ 1297320.,  1298064.,  1298760.,  1299504.,  1300224.,  1300968.,\n",
       "        1301688.,  1302432.,  1303176.,  1303896.,  1304640.,  1305360.,\n",
       "        1306104.,  1306848.,  1307520.,  1308264.,  1308984.,  1309728.,\n",
       "        1310448.,  1311192.,  1311936.,  1312656.,  1313400.,  1314120.,\n",
       "        1314864.,  1315608.,  1316280.,  1317024.,  1317744.,  1318488.,\n",
       "        1319208.,  1319952.,  1320696.,  1321416.,  1322160.,  1322880.,\n",
       "        1323624.,  1324368.,  1325040.,  1325784.,  1326504.,  1327248.,\n",
       "        1327968.,  1328712.,  1329456.,  1330176.,  1330920.,  1331640.,\n",
       "        1332384.,  1333128.])"
      ]
     },
     "execution_count": 15,
     "metadata": {},
     "output_type": "execute_result"
    }
   ],
   "source": [
    "time[:50]"
   ]
  },
  {
   "cell_type": "markdown",
   "metadata": {},
   "source": [
    "我显示了时间维的前50个数据，可以看到这里时间的存储方式与我们日常的时间表示方式是不同的，那么这些数字究竟是什么意思呢？"
   ]
  },
  {
   "cell_type": "markdown",
   "metadata": {},
   "source": [
    "这就要从units中找答案了，我们从上面的属性可以知道，该时间的units为**hours since 1800-01-01 00:00:0.0**   \n",
    "它的意思是说，这些数字是从1800年1月1日00:00:00作为起始时间以小时作为计数单位累加的结果   \n",
    "说得通俗点，就是每个时刻距离1800年1月1日00:00:00过去了多少个小时，这个小时数就是该时刻的值   \n",
    "举例来说1297320的意思是从1800年1月1日00:00:00开始计时的第1297320小时   \n",
    "简单计算一下"
   ]
  },
  {
   "cell_type": "code",
   "execution_count": 16,
   "metadata": {},
   "outputs": [
    {
     "data": {
      "text/plain": [
       "54055.0"
      ]
     },
     "execution_count": 16,
     "metadata": {},
     "output_type": "execute_result"
    }
   ],
   "source": [
    "days = 1297320/24\n",
    "days"
   ]
  },
  {
   "cell_type": "markdown",
   "metadata": {},
   "source": [
    "1297320小时换算过来一共是54055天"
   ]
  },
  {
   "cell_type": "code",
   "execution_count": 17,
   "metadata": {},
   "outputs": [
    {
     "data": {
      "text/plain": [
       "148.0958904109589"
      ]
     },
     "execution_count": 17,
     "metadata": {},
     "output_type": "execute_result"
    }
   ],
   "source": [
    "years = days / 365\n",
    "years"
   ]
  },
  {
   "cell_type": "markdown",
   "metadata": {},
   "source": [
    "54055天换算过来是148.096年"
   ]
  },
  {
   "cell_type": "code",
   "execution_count": 18,
   "metadata": {},
   "outputs": [
    {
     "data": {
      "text/plain": [
       "1948.0958904109589"
      ]
     },
     "execution_count": 18,
     "metadata": {},
     "output_type": "execute_result"
    }
   ],
   "source": [
    "1800+years"
   ]
  },
  {
   "cell_type": "markdown",
   "metadata": {},
   "source": [
    "也就是公历大概1948年1月左右"
   ]
  },
  {
   "cell_type": "markdown",
   "metadata": {},
   "source": [
    "你看这个计算是不是感觉太繁琐了，难道每个时间都要这样算吗？"
   ]
  },
  {
   "cell_type": "markdown",
   "metadata": {},
   "source": [
    "显然不是"
   ]
  },
  {
   "cell_type": "markdown",
   "metadata": {},
   "source": [
    "netCDF4模块包为我们提供了一个换算的函数，以刚才的1297320为例"
   ]
  },
  {
   "cell_type": "code",
   "execution_count": 19,
   "metadata": {},
   "outputs": [
    {
     "data": {
      "text/plain": [
       "datetime.datetime(1948, 1, 1, 0, 0)"
      ]
     },
     "execution_count": 19,
     "metadata": {},
     "output_type": "execute_result"
    }
   ],
   "source": [
    "nc.num2date(1297320,'hours since 1800-01-01 00:00:0.0')"
   ]
  },
  {
   "cell_type": "markdown",
   "metadata": {},
   "source": [
    "看到没，我们调用num2date函数，传入数据和单位，它就自动生成了准确的时间对象，也就是1948年1月1日00:00"
   ]
  },
  {
   "cell_type": "markdown",
   "metadata": {},
   "source": [
    "通常情况下，我们的使用习惯是这样的"
   ]
  },
  {
   "cell_type": "code",
   "execution_count": 20,
   "metadata": {},
   "outputs": [
    {
     "data": {
      "text/plain": [
       "array([datetime.datetime(1948, 1, 1, 0, 0),\n",
       "       datetime.datetime(1948, 2, 1, 0, 0),\n",
       "       datetime.datetime(1948, 3, 1, 0, 0),\n",
       "       datetime.datetime(1948, 4, 1, 0, 0),\n",
       "       datetime.datetime(1948, 5, 1, 0, 0),\n",
       "       datetime.datetime(1948, 6, 1, 0, 0),\n",
       "       datetime.datetime(1948, 7, 1, 0, 0),\n",
       "       datetime.datetime(1948, 8, 1, 0, 0),\n",
       "       datetime.datetime(1948, 9, 1, 0, 0),\n",
       "       datetime.datetime(1948, 10, 1, 0, 0),\n",
       "       datetime.datetime(1948, 11, 1, 0, 0),\n",
       "       datetime.datetime(1948, 12, 1, 0, 0)], dtype=object)"
      ]
     },
     "execution_count": 20,
     "metadata": {},
     "output_type": "execute_result"
    }
   ],
   "source": [
    "times = nc.num2date(time[:],time.units)\n",
    "times[:12]"
   ]
  },
  {
   "cell_type": "markdown",
   "metadata": {},
   "source": [
    "生成的times是一个numpy数组，数组中嵌套的是datetime对象，至于什么是datetime，这就是另一个问题"
   ]
  },
  {
   "cell_type": "markdown",
   "metadata": {},
   "source": [
    "至此，我们就把netCDF4模块最基础的读取内容演示完了。"
   ]
  }
 ],
 "metadata": {
  "kernelspec": {
   "display_name": "Python 3",
   "language": "python",
   "name": "python3"
  },
  "language_info": {
   "codemirror_mode": {
    "name": "ipython",
    "version": 3
   },
   "file_extension": ".py",
   "mimetype": "text/x-python",
   "name": "python",
   "nbconvert_exporter": "python",
   "pygments_lexer": "ipython3",
   "version": "3.6.6"
  }
 },
 "nbformat": 4,
 "nbformat_minor": 2
}
